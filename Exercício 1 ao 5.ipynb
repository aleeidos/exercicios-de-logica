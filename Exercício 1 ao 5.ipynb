{
 "cells": [
  {
   "cell_type": "markdown",
   "id": "f50c0096",
   "metadata": {},
   "source": [
    "#### 1) Escreva um programa que mostre na tela a mensagem \"Olá, Mundo!\""
   ]
  },
  {
   "cell_type": "code",
   "execution_count": 1,
   "id": "1176cd4c",
   "metadata": {},
   "outputs": [
    {
     "name": "stdout",
     "output_type": "stream",
     "text": [
      "Hello World!\n"
     ]
    }
   ],
   "source": [
    "print('Hello World!')"
   ]
  },
  {
   "cell_type": "markdown",
   "id": "d22b4f3e",
   "metadata": {},
   "source": [
    "---"
   ]
  },
  {
   "cell_type": "markdown",
   "id": "5af5b2d9",
   "metadata": {},
   "source": [
    "#### 2) Faça um programa que leia o nome de uma pessoa e mostre uma mensagem de boasvindas para ela:        "
   ]
  },
  {
   "cell_type": "markdown",
   "id": "7fcdf963",
   "metadata": {},
   "source": [
    "#### Ex: <br>  - Qual é o seu nome? <br> - João da Silva <br> - Olá João da Silva, é um prazer te conhecer!                                                                                                                                                                                                                                                                                                          "
   ]
  },
  {
   "cell_type": "code",
   "execution_count": 6,
   "id": "64bcfbe0",
   "metadata": {},
   "outputs": [
    {
     "name": "stdout",
     "output_type": "stream",
     "text": [
      "Por favor, insira seu nome\n",
      "Alexandre\n",
      "Olá Alexandre é um prazer te conhecer!\n"
     ]
    }
   ],
   "source": [
    "nome = input('Por favor, insira seu nome\\n')\n",
    "\n",
    "print(f'Olá {nome} é um prazer te conhecer!')"
   ]
  },
  {
   "cell_type": "markdown",
   "id": "d3cd27b5",
   "metadata": {},
   "source": [
    "#### Crie um programa que leia o nome e o salário de um funcionário, mostrando no final uma mensagem. <br> Ex: <br> Nome do Funcionário: Maria do Carmo <br> Salário: 1850,45 <br> O funcionário Maria do Carmo tem um salário de 1850,45 reais em Junho"
   ]
  },
  {
   "cell_type": "code",
   "execution_count": 8,
   "id": "ac624def",
   "metadata": {},
   "outputs": [
    {
     "name": "stdout",
     "output_type": "stream",
     "text": [
      "Por favor, digite seu nome\n",
      "Alexandre\n",
      "Ótimo, por favor informe o seu salário\n",
      "2000\n"
     ]
    },
    {
     "data": {
      "text/plain": [
       "str"
      ]
     },
     "execution_count": 8,
     "metadata": {},
     "output_type": "execute_result"
    }
   ],
   "source": [
    "nome_do_usuario = input('Por favor, digite seu nome\\n')\n",
    "salario = float(input('Ótimo, por favor informe o seu salário\\n'))\n",
    "# type(salario)\n",
    "\n",
    "print(f'O funcionário {nome_do_usuario} posssui um salário de R${salario:.2f} no mês de Agosto')"
   ]
  },
  {
   "cell_type": "markdown",
   "id": "d0d3aa5f",
   "metadata": {},
   "source": [
    "#### 4) Desenvolva um algoritmo que leia dois números inteiros e mostre o somatório entre eles. <br> Ex: <br> Digite um valor: 8 <br>Digite outro valor: 5 <br> A soma entre 8 e 5 é igual a 13."
   ]
  },
  {
   "cell_type": "code",
   "execution_count": 15,
   "id": "f213b00c",
   "metadata": {},
   "outputs": [
    {
     "name": "stdout",
     "output_type": "stream",
     "text": [
      "Digite um valor inteiro:10\n",
      "Digite outro valor inteiro:19\n",
      "29\n"
     ]
    }
   ],
   "source": [
    "numero_1 = int(input('Digite um valor inteiro:'))\n",
    "numero_2 = int(input('Digite outro valor inteiro:'))\n",
    "\n",
    "soma = numero_1 + numero_2\n",
    "print(soma)"
   ]
  },
  {
   "cell_type": "markdown",
   "id": "e8efbe7d",
   "metadata": {},
   "source": [
    "#### 5) Faça um programa que leia as duas notas de um aluno em uma matéria e mostre na tela a sua média na disciplina. <br> Ex: <br> Nota 1: 4.5 <br> Nota 2: 8.5 <br> A média entre 4.5 e 8.5 é igual a 6.5"
   ]
  },
  {
   "cell_type": "code",
   "execution_count": 16,
   "id": "a7316f51",
   "metadata": {},
   "outputs": [
    {
     "name": "stdout",
     "output_type": "stream",
     "text": [
      "Digite sua nota 1:7.5\n",
      "Digite sua nota 2: 8\n",
      "A média do aluno foi 7.75\n"
     ]
    }
   ],
   "source": [
    "nota1 = float(input('Digite sua nota 1:'))\n",
    "nota2 = float(input('Digite sua nota 2: '))\n",
    "\n",
    "media_nota = (nota1 + nota2) / 2\n",
    "print(f'A média do aluno foi {media_nota}')"
   ]
  }
 ],
 "metadata": {
  "kernelspec": {
   "display_name": "Python 3 (ipykernel)",
   "language": "python",
   "name": "python3"
  },
  "language_info": {
   "codemirror_mode": {
    "name": "ipython",
    "version": 3
   },
   "file_extension": ".py",
   "mimetype": "text/x-python",
   "name": "python",
   "nbconvert_exporter": "python",
   "pygments_lexer": "ipython3",
   "version": "3.9.13"
  }
 },
 "nbformat": 4,
 "nbformat_minor": 5
}
